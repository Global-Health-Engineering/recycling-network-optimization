{
 "cells": [
  {
   "cell_type": "code",
   "execution_count": 1,
   "metadata": {},
   "outputs": [],
   "source": [
    "import geopandas as gpd\n",
    "import os\n",
    "import pandas as pd\n",
    "import openrouteservice \n",
    "os.chdir(\"/home/silas/projects/msc_thesis\")"
   ]
  },
  {
   "cell_type": "code",
   "execution_count": 2,
   "metadata": {},
   "outputs": [
    {
     "name": "stdout",
     "output_type": "stream",
     "text": [
      "Current CRS: epsg:2056\n",
      "Current CRS: epsg:2056\n"
     ]
    },
    {
     "name": "stderr",
     "output_type": "stream",
     "text": [
      "/home/silas/miniconda3/envs/rasterio_env/lib/python3.11/site-packages/geopandas/geodataframe.py:1528: SettingWithCopyWarning: \n",
      "A value is trying to be set on a copy of a slice from a DataFrame.\n",
      "Try using .loc[row_indexer,col_indexer] = value instead\n",
      "\n",
      "See the caveats in the documentation: https://pandas.pydata.org/pandas-docs/stable/user_guide/indexing.html#returning-a-view-versus-a-copy\n",
      "  super().__setitem__(key, value)\n"
     ]
    }
   ],
   "source": [
    "#set Api key for ORS\n",
    "api_key= \"5b3ce3597851110001cf624865e19fb4d0c2400e9aba8877785f6853\"\n",
    "\n",
    "#import flat dataset\n",
    "flats_zh= gpd.read_file(r'./data/raw_data/geodata_stadt_Zuerich/building_stats/data/ssz.gwr_stzh_wohnungen.shp')\n",
    "\n",
    "#import rcp dataset\n",
    "rcps = gpd.read_file(r'./data/raw_data/geodata_stadt_Zuerich/recycling_sammelstellen/data/stzh.poi_sammelstelle_view.shp')\n",
    "\n",
    "\n",
    "#filter out demolished flats\n",
    "flats_zh_existing=flats_zh.query('wstatlang==\"Bestehend\"')\n",
    "flats_zh_existing['egid']=flats_zh_existing['egid'].astype(int)\n",
    "\n",
    "# check if CRS are matching\n",
    "print(\"Current CRS:\", flats_zh_existing.crs)\n",
    "print(\"Current CRS:\", rcps.crs)\n"
   ]
  },
  {
   "cell_type": "code",
   "execution_count": 3,
   "metadata": {},
   "outputs": [],
   "source": [
    "# Create a subset of n flats\n",
    "n = 100\n",
    "buffer_distance = 600\n",
    "flats_subset = flats_zh_existing.iloc[1:n,].copy()\n",
    "\n",
    "# Create buffer\n",
    "flats_subset['buffer'] = flats_subset.geometry.buffer(buffer_distance)\n",
    "\n",
    "def find_points_in_buffer(buffer_geom):\n",
    "    return rcps[rcps.geometry.within(buffer_geom)]\n",
    "\n",
    "# Apply function to each buffer, save in dataframe\n",
    "results = pd.DataFrame(columns=['flat_id', 'rcp'])\n",
    "for idx, row in flats_subset.iterrows():\n",
    "    points_in_buffer = find_points_in_buffer(row['buffer'])\n",
    "    if not points_in_buffer.empty:\n",
    "        # For each point in the buffer, add a new row\n",
    "        for point_idx in points_in_buffer.index:\n",
    "            results.loc[len(results)] = {\n",
    "                'flat_id': row['egid'],\n",
    "                'rcp': point_idx\n",
    "            }"
   ]
  },
  {
   "cell_type": "code",
   "execution_count": null,
   "metadata": {},
   "outputs": [],
   "source": []
  },
  {
   "cell_type": "code",
   "execution_count": 4,
   "metadata": {},
   "outputs": [],
   "source": [
    "#function to get coordinates for rcp x\n",
    "def get_rcp_coordinates(rcp_id):\n",
    "   return rcps.geometry[rcp_id]\n",
    "\n",
    "#function to get coordinates for each flat_id\n",
    "def get_flat_coordinates(flat_id):\n",
    "   return flats_subset.loc[flats_subset['egid']==flat_id, 'geometry']"
   ]
  },
  {
   "cell_type": "code",
   "execution_count": null,
   "metadata": {},
   "outputs": [
    {
     "name": "stdout",
     "output_type": "stream",
     "text": [
      "1     1246779.539\n",
      "89    1246779.539\n",
      "90    1246779.539\n",
      "dtype: float64\n",
      "1247020.01\n"
     ]
    }
   ],
   "source": [
    "#convert to WGS84\n",
    "flats_subset = flats_subset.to_crs(epsg=4326)\n",
    "rcps = rcps.to_crs(epsg=4326)"
   ]
  },
  {
   "cell_type": "code",
   "execution_count": 6,
   "metadata": {},
   "outputs": [
    {
     "name": "stderr",
     "output_type": "stream",
     "text": [
      "/home/silas/miniconda3/envs/rasterio_env/lib/python3.11/site-packages/openrouteservice/client.py:211: UserWarning: Rate limit exceeded. Retrying for the 1st time.\n",
      "  warnings.warn('Rate limit exceeded. Retrying for the {0}{1} time.'.format(retry_counter + 1,\n",
      "/home/silas/miniconda3/envs/rasterio_env/lib/python3.11/site-packages/openrouteservice/client.py:211: UserWarning: Rate limit exceeded. Retrying for the 2nd time.\n",
      "  warnings.warn('Rate limit exceeded. Retrying for the {0}{1} time.'.format(retry_counter + 1,\n",
      "/home/silas/miniconda3/envs/rasterio_env/lib/python3.11/site-packages/openrouteservice/client.py:211: UserWarning: Rate limit exceeded. Retrying for the 3rd time.\n",
      "  warnings.warn('Rate limit exceeded. Retrying for the {0}{1} time.'.format(retry_counter + 1,\n",
      "/home/silas/miniconda3/envs/rasterio_env/lib/python3.11/site-packages/openrouteservice/client.py:211: UserWarning: Rate limit exceeded. Retrying for the 4th time.\n",
      "  warnings.warn('Rate limit exceeded. Retrying for the {0}{1} time.'.format(retry_counter + 1,\n",
      "/home/silas/miniconda3/envs/rasterio_env/lib/python3.11/site-packages/openrouteservice/client.py:211: UserWarning: Rate limit exceeded. Retrying for the 5th time.\n",
      "  warnings.warn('Rate limit exceeded. Retrying for the {0}{1} time.'.format(retry_counter + 1,\n",
      "/home/silas/miniconda3/envs/rasterio_env/lib/python3.11/site-packages/openrouteservice/client.py:211: UserWarning: Rate limit exceeded. Retrying for the 6th time.\n",
      "  warnings.warn('Rate limit exceeded. Retrying for the {0}{1} time.'.format(retry_counter + 1,\n",
      "/home/silas/miniconda3/envs/rasterio_env/lib/python3.11/site-packages/openrouteservice/client.py:211: UserWarning: Rate limit exceeded. Retrying for the 7th time.\n",
      "  warnings.warn('Rate limit exceeded. Retrying for the {0}{1} time.'.format(retry_counter + 1,\n",
      "/home/silas/miniconda3/envs/rasterio_env/lib/python3.11/site-packages/openrouteservice/client.py:211: UserWarning: Rate limit exceeded. Retrying for the 8th time.\n",
      "  warnings.warn('Rate limit exceeded. Retrying for the {0}{1} time.'.format(retry_counter + 1,\n",
      "/home/silas/miniconda3/envs/rasterio_env/lib/python3.11/site-packages/openrouteservice/client.py:211: UserWarning: Rate limit exceeded. Retrying for the 9th time.\n",
      "  warnings.warn('Rate limit exceeded. Retrying for the {0}{1} time.'.format(retry_counter + 1,\n"
     ]
    },
    {
     "name": "stdout",
     "output_type": "stream",
     "text": [
      "   flat_id  rcp  distance  duration\n",
      "0   145253   47     813.5  9.761667\n",
      "1   145253   48     517.9  6.213333\n",
      "2   145253  129     613.7  7.365000\n",
      "3   145253  130     324.6  3.895000\n",
      "4   145253  131     276.8  3.321667\n"
     ]
    }
   ],
   "source": [
    "\n",
    "# Create ors client using the API key\n",
    "client = openrouteservice.Client(key=api_key)\n",
    "\n",
    "# Function to calculate the walking route between a flat and a recycling point\n",
    "def calculate_walking_route(flat_id, rcp_id):\n",
    "    flat_coords = get_flat_coordinates(flat_id).values[0]\n",
    "    rcp_coords = get_rcp_coordinates(rcp_id)\n",
    "    \n",
    "    # Get the coordinates in the format required by OpenRouteService\n",
    "    coords = ([flat_coords.x, flat_coords.y], [rcp_coords.x, rcp_coords.y])\n",
    "    \n",
    "    # Request the route from OpenRouteService\n",
    "    route = client.directions(\n",
    "        coordinates=coords,\n",
    "        profile='foot-walking',\n",
    "        format='geojson'\n",
    "    )\n",
    "    \n",
    "    # Extract distance and duration\n",
    "    distance = route['features'][0]['properties']['segments'][0]['distance']\n",
    "    duration = route['features'][0]['properties']['segments'][0]['duration']\n",
    "    \n",
    "    return distance, duration\n",
    "\n",
    "# Apply the function to each row in the results dataframe\n",
    "results['distance'] = 0.0\n",
    "results['duration'] = 0.0\n",
    "\n",
    "for idx, row in results.iterrows():\n",
    "    distance, duration = calculate_walking_route(row['flat_id'], row['rcp'])\n",
    "    results.at[idx, 'distance'] = distance\n",
    "    results.at[idx, 'duration'] = duration/60 # Convert seconds to minutes\n",
    "\n",
    "print(results.head())"
   ]
  },
  {
   "cell_type": "code",
   "execution_count": 7,
   "metadata": {},
   "outputs": [
    {
     "data": {
      "text/html": [
       "<div>\n",
       "<style scoped>\n",
       "    .dataframe tbody tr th:only-of-type {\n",
       "        vertical-align: middle;\n",
       "    }\n",
       "\n",
       "    .dataframe tbody tr th {\n",
       "        vertical-align: top;\n",
       "    }\n",
       "\n",
       "    .dataframe thead th {\n",
       "        text-align: right;\n",
       "    }\n",
       "</style>\n",
       "<table border=\"1\" class=\"dataframe\">\n",
       "  <thead>\n",
       "    <tr style=\"text-align: right;\">\n",
       "      <th></th>\n",
       "      <th>flat_id</th>\n",
       "      <th>rcp</th>\n",
       "      <th>distance</th>\n",
       "      <th>duration</th>\n",
       "    </tr>\n",
       "  </thead>\n",
       "  <tbody>\n",
       "  </tbody>\n",
       "</table>\n",
       "</div>"
      ],
      "text/plain": [
       "Empty DataFrame\n",
       "Columns: [flat_id, rcp, distance, duration]\n",
       "Index: []"
      ]
     },
     "execution_count": 7,
     "metadata": {},
     "output_type": "execute_result"
    }
   ],
   "source": [
    "results[results['duration'] > 10]\n",
    "\n"
   ]
  },
  {
   "cell_type": "code",
   "execution_count": 8,
   "metadata": {},
   "outputs": [
    {
     "data": {
      "text/html": [
       "<div>\n",
       "<style scoped>\n",
       "    .dataframe tbody tr th:only-of-type {\n",
       "        vertical-align: middle;\n",
       "    }\n",
       "\n",
       "    .dataframe tbody tr th {\n",
       "        vertical-align: top;\n",
       "    }\n",
       "\n",
       "    .dataframe thead th {\n",
       "        text-align: right;\n",
       "    }\n",
       "</style>\n",
       "<table border=\"1\" class=\"dataframe\">\n",
       "  <thead>\n",
       "    <tr style=\"text-align: right;\">\n",
       "      <th></th>\n",
       "      <th>flat_id</th>\n",
       "      <th>rcp</th>\n",
       "      <th>distance</th>\n",
       "      <th>duration</th>\n",
       "    </tr>\n",
       "  </thead>\n",
       "  <tbody>\n",
       "    <tr>\n",
       "      <th>0</th>\n",
       "      <td>145253</td>\n",
       "      <td>47</td>\n",
       "      <td>813.5</td>\n",
       "      <td>9.761667</td>\n",
       "    </tr>\n",
       "    <tr>\n",
       "      <th>1</th>\n",
       "      <td>145253</td>\n",
       "      <td>48</td>\n",
       "      <td>517.9</td>\n",
       "      <td>6.213333</td>\n",
       "    </tr>\n",
       "    <tr>\n",
       "      <th>2</th>\n",
       "      <td>145253</td>\n",
       "      <td>129</td>\n",
       "      <td>613.7</td>\n",
       "      <td>7.365000</td>\n",
       "    </tr>\n",
       "    <tr>\n",
       "      <th>3</th>\n",
       "      <td>145253</td>\n",
       "      <td>130</td>\n",
       "      <td>324.6</td>\n",
       "      <td>3.895000</td>\n",
       "    </tr>\n",
       "    <tr>\n",
       "      <th>4</th>\n",
       "      <td>145253</td>\n",
       "      <td>131</td>\n",
       "      <td>276.8</td>\n",
       "      <td>3.321667</td>\n",
       "    </tr>\n",
       "    <tr>\n",
       "      <th>...</th>\n",
       "      <td>...</td>\n",
       "      <td>...</td>\n",
       "      <td>...</td>\n",
       "      <td>...</td>\n",
       "    </tr>\n",
       "    <tr>\n",
       "      <th>484</th>\n",
       "      <td>145254</td>\n",
       "      <td>131</td>\n",
       "      <td>270.2</td>\n",
       "      <td>3.241667</td>\n",
       "    </tr>\n",
       "    <tr>\n",
       "      <th>485</th>\n",
       "      <td>145254</td>\n",
       "      <td>48</td>\n",
       "      <td>525.1</td>\n",
       "      <td>6.301667</td>\n",
       "    </tr>\n",
       "    <tr>\n",
       "      <th>486</th>\n",
       "      <td>145254</td>\n",
       "      <td>129</td>\n",
       "      <td>600.8</td>\n",
       "      <td>7.210000</td>\n",
       "    </tr>\n",
       "    <tr>\n",
       "      <th>487</th>\n",
       "      <td>145254</td>\n",
       "      <td>130</td>\n",
       "      <td>311.7</td>\n",
       "      <td>3.740000</td>\n",
       "    </tr>\n",
       "    <tr>\n",
       "      <th>488</th>\n",
       "      <td>145254</td>\n",
       "      <td>131</td>\n",
       "      <td>270.2</td>\n",
       "      <td>3.241667</td>\n",
       "    </tr>\n",
       "  </tbody>\n",
       "</table>\n",
       "<p>489 rows × 4 columns</p>\n",
       "</div>"
      ],
      "text/plain": [
       "     flat_id  rcp  distance  duration\n",
       "0     145253   47     813.5  9.761667\n",
       "1     145253   48     517.9  6.213333\n",
       "2     145253  129     613.7  7.365000\n",
       "3     145253  130     324.6  3.895000\n",
       "4     145253  131     276.8  3.321667\n",
       "..       ...  ...       ...       ...\n",
       "484   145254  131     270.2  3.241667\n",
       "485   145254   48     525.1  6.301667\n",
       "486   145254  129     600.8  7.210000\n",
       "487   145254  130     311.7  3.740000\n",
       "488   145254  131     270.2  3.241667\n",
       "\n",
       "[489 rows x 4 columns]"
      ]
     },
     "execution_count": 8,
     "metadata": {},
     "output_type": "execute_result"
    }
   ],
   "source": [
    "results"
   ]
  }
 ],
 "metadata": {
  "kernelspec": {
   "display_name": "rasterio_env",
   "language": "python",
   "name": "python3"
  },
  "language_info": {
   "codemirror_mode": {
    "name": "ipython",
    "version": 3
   },
   "file_extension": ".py",
   "mimetype": "text/x-python",
   "name": "python",
   "nbconvert_exporter": "python",
   "pygments_lexer": "ipython3",
   "version": "3.11.6"
  }
 },
 "nbformat": 4,
 "nbformat_minor": 2
}
