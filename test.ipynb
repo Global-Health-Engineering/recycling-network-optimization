{
 "cells": [
  {
   "cell_type": "code",
   "execution_count": null,
   "metadata": {},
   "outputs": [],
   "source": []
  },
  {
   "cell_type": "code",
   "execution_count": null,
   "metadata": {},
   "outputs": [],
   "source": [
    "import geopandas as gpd\n",
    "\n",
    "POPULATION_POLYGON_PATH = '/home/silas/projects/msc_thesis/data/raw_data/geodata_stadt_Zuerich/Raumliche_Bevolkerungsstatistik_-OGD/BEVOELKERUNG_HA_F.shp'\n",
    "pop_polygons=gpd.read_file(POPULATION_POLYGON_PATH)\n",
    "\n",
    "FLAT_DB_PATH = \"/home/silas/projects/msc_thesis/data/raw_data/geodata_stadt_Zuerich/building_stats/data/ssz.gwr_stzh_wohnungen.shp\"\n",
    "flat_db = gpd.read_file(FLAT_DB_PATH)\n",
    "flat_db = flat_db.query('wstatlang == \"bestehend\"')\n"
   ]
  },
  {
   "cell_type": "code",
   "execution_count": null,
   "metadata": {},
   "outputs": [
    {
     "name": "stdout",
     "output_type": "stream",
     "text": [
      "epsg:2056\n",
      "epsg:2056\n"
     ]
    },
    {
     "data": {
      "text/html": [
       "<div>\n",
       "<style scoped>\n",
       "    .dataframe tbody tr th:only-of-type {\n",
       "        vertical-align: middle;\n",
       "    }\n",
       "\n",
       "    .dataframe tbody tr th {\n",
       "        vertical-align: top;\n",
       "    }\n",
       "\n",
       "    .dataframe thead th {\n",
       "        text-align: right;\n",
       "    }\n",
       "</style>\n",
       "<table border=\"1\" class=\"dataframe\">\n",
       "  <thead>\n",
       "    <tr style=\"text-align: right;\">\n",
       "      <th></th>\n",
       "      <th>egid</th>\n",
       "      <th>ewid</th>\n",
       "      <th>edid</th>\n",
       "      <th>whgnr</th>\n",
       "      <th>wstwk</th>\n",
       "      <th>wstwklang</th>\n",
       "      <th>wbez</th>\n",
       "      <th>wmehrg</th>\n",
       "      <th>wmehrglang</th>\n",
       "      <th>wbauj</th>\n",
       "      <th>...</th>\n",
       "      <th>FRAU_N</th>\n",
       "      <th>FRAU_P</th>\n",
       "      <th>SCHWEIZ_N</th>\n",
       "      <th>AUSLAND_N</th>\n",
       "      <th>AUSLAND_P</th>\n",
       "      <th>FLAECHE_HA</th>\n",
       "      <th>DICHTE_PHA</th>\n",
       "      <th>STICHTAG</th>\n",
       "      <th>SHAPE_AREA</th>\n",
       "      <th>SHAPE_LEN</th>\n",
       "    </tr>\n",
       "  </thead>\n",
       "  <tbody>\n",
       "  </tbody>\n",
       "</table>\n",
       "<p>0 rows × 51 columns</p>\n",
       "</div>"
      ],
      "text/plain": [
       "Empty GeoDataFrame\n",
       "Columns: [egid, ewid, edid, whgnr, wstwk, wstwklang, wbez, wmehrg, wmehrglang, wbauj, wabbj, wstat, wstatlang, warea, wazim, wkche, wkchelang, dkode, dkodn, deinr, strname, dplz4, dplzname, dexpdat, objectid, geometry, index_right, RECORDID, PERS_N, J_0_6_P, J_7_15_P, J_16_19_P, J_20_24_P, J_25_44_P, J_45_64_P, J_65_79_P, J_80PLUS_P, ALTERSQUOT, JUGENDQUOT, GESAMTQUOT, MANN_N, FRAU_N, FRAU_P, SCHWEIZ_N, AUSLAND_N, AUSLAND_P, FLAECHE_HA, DICHTE_PHA, STICHTAG, SHAPE_AREA, SHAPE_LEN]\n",
       "Index: []\n",
       "\n",
       "[0 rows x 51 columns]"
      ]
     },
     "execution_count": 2,
     "metadata": {},
     "output_type": "execute_result"
    }
   ],
   "source": [
    "print(pop_polygons.crs)\n",
    "print(flat_db.crs)\n",
    "\n",
    "gpd.sjoin(flat_db, pop_polygons, how='left', predicate='within', inplace=True)"
   ]
  },
  {
   "cell_type": "code",
   "execution_count": 5,
   "metadata": {},
   "outputs": [
    {
     "data": {
      "text/plain": [
       "0        75.0\n",
       "1       135.0\n",
       "2        37.0\n",
       "3        64.0\n",
       "4        78.0\n",
       "        ...  \n",
       "4509     11.0\n",
       "4510   -999.0\n",
       "4511    125.0\n",
       "4512     41.0\n",
       "4513      6.0\n",
       "Name: PERS_N, Length: 4514, dtype: float64"
      ]
     },
     "execution_count": 5,
     "metadata": {},
     "output_type": "execute_result"
    }
   ],
   "source": [
    "pop_polygons['PERS_N']"
   ]
  }
 ],
 "metadata": {
  "kernelspec": {
   "display_name": "rasterio_env",
   "language": "python",
   "name": "python3"
  },
  "language_info": {
   "codemirror_mode": {
    "name": "ipython",
    "version": 3
   },
   "file_extension": ".py",
   "mimetype": "text/x-python",
   "name": "python",
   "nbconvert_exporter": "python",
   "pygments_lexer": "ipython3",
   "version": "3.11.6"
  }
 },
 "nbformat": 4,
 "nbformat_minor": 2
}
