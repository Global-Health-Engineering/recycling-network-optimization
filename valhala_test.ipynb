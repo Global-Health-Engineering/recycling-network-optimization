{
 "cells": [
  {
   "cell_type": "code",
   "execution_count": 1,
   "metadata": {},
   "outputs": [
    {
     "name": "stdout",
     "output_type": "stream",
     "text": [
      "Error making request: 400 Client Error: Bad Request for url: http://localhost:8002/route\n"
     ]
    }
   ],
   "source": [
    "import requests\n",
    "import json\n",
    "from datetime import datetime\n",
    "\n",
    "# Define API endpoint\n",
    "VALHALLA_URL = \"http://localhost:8002/route\"\n",
    "\n",
    "# Define locations\n",
    "locations = [\n",
    "    {\"lat\": 47.376460, \"lon\": 8.548010},  # ETH Zurich\n",
    "    {\"lat\": 47.378177, \"lon\": 8.540192}   # Zurich Main Station\n",
    "]\n",
    "\n",
    "# Create request payload\n",
    "request_payload = {\n",
    "    \"locations\": locations,\n",
    "    \"costing\": \"pedestrian\",\n",
    "    \"directions_options\": {\n",
    "        \"units\": \"kilometers\"\n",
    "    }\n",
    "}\n",
    "\n",
    "try:\n",
    "    # Make API request\n",
    "    response = requests.post(VALHALLA_URL, json=request_payload)\n",
    "    response.raise_for_status()\n",
    "    \n",
    "    # Parse response\n",
    "    route_data = response.json()\n",
    "    \n",
    "    if \"trip\" not in route_data:\n",
    "        print(\"Error: Invalid response from server\")\n",
    "        exit(1)\n",
    "        \n",
    "    # Extract route information\n",
    "    trip = route_data[\"trip\"]\n",
    "    summary = trip[\"summary\"]\n",
    "    legs = trip[\"legs\"][0]  # We only have one leg in this route\n",
    "    \n",
    "    # Print route summary\n",
    "    print(\"\\nRoute Summary:\")\n",
    "    print(f\"Distance: {summary['length']:.2f} km\")\n",
    "    print(f\"Time: {summary['time'] / 60:.1f} minutes\")\n",
    "    \n",
    "    # Print turn-by-turn directions\n",
    "    print(\"\\nTurn-by-turn directions:\")\n",
    "    for i, maneuver in enumerate(legs[\"maneuvers\"], 1):\n",
    "        instruction = maneuver[\"instruction\"]\n",
    "        distance = maneuver[\"length\"]\n",
    "        print(f\"{i}. {instruction} ({distance:.2f} km)\")\n",
    "        \n",
    "except requests.exceptions.ConnectionError:\n",
    "    print(\"Error: Could not connect to Valhalla server. Make sure it's running at\", VALHALLA_URL)\n",
    "except requests.exceptions.RequestException as e:\n",
    "    print(\"Error making request:\", str(e))\n",
    "except (KeyError, json.JSONDecodeError) as e:\n",
    "    print(\"Error parsing response:\", str(e))\n"
   ]
  }
 ],
 "metadata": {
  "kernelspec": {
   "display_name": "geoenv",
   "language": "python",
   "name": "python3"
  },
  "language_info": {
   "codemirror_mode": {
    "name": "ipython",
    "version": 3
   },
   "file_extension": ".py",
   "mimetype": "text/x-python",
   "name": "python",
   "nbconvert_exporter": "python",
   "pygments_lexer": "ipython3",
   "version": "3.10.13"
  }
 },
 "nbformat": 4,
 "nbformat_minor": 2
}
